{
 "cells": [
  {
   "cell_type": "markdown",
   "metadata": {},
   "source": [
    "# Задача\n",
    "одна из проблем, которую мы видим при обращении в саппорт - в разрезе разных категорий обращения необходимо смотреть в разные сервисы и собирать дополнительную информацию. На это уходит много времени. на одно обращение уходит в среднем 2 минуты поиска дополнительной информации. Стоимость часа работы сотрудника 6$.\n",
    "\n",
    "Давайте поможем и оптимизируем время и деньги компании - сделаем модель,которая в зависимости от текста будет определять категорию обращения автоматически.\n",
    "\n",
    "Тогда мы сможем сразу подготавливать информацию для наших операторов в течение 5 секунд (сбор и передача на фронт)\n",
    "\n",
    "Нужно сделать модель многоклассовой классификации определения категории обращения"
   ]
  },
  {
   "cell_type": "code",
   "execution_count": 3,
   "metadata": {},
   "outputs": [],
   "source": [
    "\n",
    "from sklearn.feature_extraction.text import TfidfVectorizer\n",
    "\n",
    "import datetime\n",
    "import requests\n",
    "import collections as co\n",
    "import string\n",
    "import re\n",
    "\n",
    "import nltk\n",
    "from sumy.utils import get_stop_words as gsw1\n",
    "from stop_words import safe_get_stop_words as gsw2\n",
    "\n",
    "\n",
    "import pandas as pd\n",
    "import numpy as np\n",
    "import pickle"
   ]
  },
  {
   "cell_type": "code",
   "execution_count": 4,
   "metadata": {},
   "outputs": [],
   "source": [
    "\n",
    "from io import StringIO\n",
    "\n",
    "import matplotlib.pyplot as plt\n",
    "import seaborn as sns\n",
    "\n",
    "\n",
    "RANDOM_STATE = 42\n",
    "\n",
    "from helpers import *\n",
    "from preprocessor import Preprocessor\n",
    "from libherokuserver import *\n",
    "\n",
    "%matplotlib inline"
   ]
  },
  {
   "cell_type": "code",
   "execution_count": 2,
   "metadata": {
    "jupyter": {
     "source_hidden": true
    }
   },
   "outputs": [],
   "source": [
    "def load_init(frac=1):\n",
    "    \"\"\"Load file\n",
    "    frac: float, 0..1, sample fraction of used data\n",
    "    \"\"\"\n",
    "    return pd.read_csv('./data/3categories_50.csv').sample(frac=frac, random_state=RANDOM_STATE)"
   ]
  },
  {
   "cell_type": "code",
   "execution_count": 4,
   "metadata": {
    "jupyter": {
     "source_hidden": true
    }
   },
   "outputs": [],
   "source": [
    "def clear_message(message):\n",
    "    \"\"\"Clear message from garbage\n",
    "    message: string\n",
    "    \"\"\"\n",
    "    if type(message) != type(''):\n",
    "        return ''\n",
    "    message = re.sub('\\[.*\\]', '', message)\n",
    "    message = re.sub(\"[!':']\", '', message)\n",
    "    message = re.sub(\"[^A-Za-z0-9,!.\\/'+-=]\", ' ', message)\n",
    "    message = re.sub(\"\\s+\", ' ', message)\n",
    "    message = message.lower()\n",
    "    return message"
   ]
  },
  {
   "cell_type": "code",
   "execution_count": 5,
   "metadata": {
    "jupyter": {
     "source_hidden": true
    }
   },
   "outputs": [],
   "source": [
    "from nltk.stem.porter import *\n",
    "from nltk.stem import WordNetLemmatizer\n",
    "\n",
    "\n",
    "def get_sw(languages):\n",
    "    \"\"\"Create stop words list\n",
    "    languages: list of strings, ex. [\"english\", \"russian\"]\"\"\"\n",
    "    stopWords = nltk.corpus.stopwords.words()\n",
    "\n",
    "    sw = {\"yeah\",\"zola\",\"don\", 'chat', 'transcript'}  | set(stopWords)\n",
    "    for lang in languages:\n",
    "        try: \n",
    "            sw |= gsw1(lang) | set(gsw2(lang))\n",
    "        except:\n",
    "            pass\n",
    "    return sw\n",
    "\n",
    "\n",
    "def get_baser(base='lem'):\n",
    "    \"\"\"Choose method of word basing\n",
    "    base: string, 'lem' or 'stem'\n",
    "    \"\"\"\n",
    "    if base == 'stem':\n",
    "        stemming = PorterStemmer()\n",
    "        basing_func = stemming.stem\n",
    "    elif base == 'lem':\n",
    "        lemmatizer = WordNetLemmatizer()\n",
    "        basing_func = lemmatizer.lemmatize\n",
    "    \n",
    "    return basing_func\n",
    "\n",
    "\n",
    "def basing(message, baser, stop_words=None):\n",
    "    \"\"\"Base each word in message and tagged them\n",
    "    message: string\n",
    "    baser: nltk.stem.porter.PorterStemmer or nltk.stem.WordNetLemmatizer\n",
    "    stop_words: set() or list() of string, collection of words to delete from message\n",
    "    \"\"\"\n",
    "    def get_words(sent):\n",
    "        res = []\n",
    "        for word in sent.split(): \n",
    "            checked = re.search('(\\w+)',word)\n",
    "            if checked:\n",
    "                res.append(checked.group(0))\n",
    "        return res\n",
    "    \n",
    "    words = get_words(message)\n",
    "    words_tags = nltk.pos_tag(words)\n",
    "\n",
    "    def check_word(word, tag):\n",
    "        not_sw = word not in stop_words \n",
    "        not_digits = not re.match('\\d+',word)\n",
    "        nice_tag = tag in ['NN','VB','DT','NNS','VBP','VB']\n",
    "        return not_sw and not_digits and nice_tag\n",
    "\n",
    "    clear_words_tags = [word_tag for word_tag in words_tags if check_word(*word_tag)]\n",
    "\n",
    "    clear_words = [word_tag[0] for word_tag in clear_words_tags]\n",
    "    based_words = [baser(word) for word in clear_words]\n",
    "    \n",
    "    return based_words\n",
    "\n",
    "\n",
    "def get_top_words(words_list_series, top_N=1500):\n",
    "    \"\"\"Select top N words by total count \n",
    "    words_list_series: pd.Series of string, based words of message\n",
    "    top_N: int\n",
    "    \"\"\"\n",
    "    c_text = co.Counter(\n",
    "        np.concatenate(words_list_series.tolist(), axis=0 ))\n",
    "\n",
    "    final_words = pd.DataFrame.from_dict(dict(c_text) , orient = 'index').sort_values(by = 0 , ascending = False).head(top_N).index.values    \n",
    "    return final_words"
   ]
  },
  {
   "cell_type": "code",
   "execution_count": 6,
   "metadata": {
    "jupyter": {
     "source_hidden": true
    }
   },
   "outputs": [],
   "source": [
    "def get_vectorized(based_words, y_target, top_words_count=1000):\n",
    "    \"\"\"Vectorize based words of message\n",
    "    based_words: list of string\n",
    "    y_target: pd.Series, targets, copy from original dataframe\n",
    "    top_words_count: int\n",
    "    \"\"\"\n",
    "    vec = TfidfVectorizer(max_features=top_words_count)\n",
    "    \n",
    "    tfidf_mat = vec.fit_transform(based_words).toarray()\n",
    "    train = pd.DataFrame(tfidf_mat)\n",
    "\n",
    "    train_columns = train.columns\n",
    "\n",
    "    target = y_target.name\n",
    "    train[target] =  y_target\n",
    "\n",
    "    train.dropna(inplace=True)\n",
    "    return train, train_columns, target, vec"
   ]
  },
  {
   "cell_type": "code",
   "execution_count": null,
   "metadata": {
    "jupyter": {
     "source_hidden": true
    }
   },
   "outputs": [],
   "source": [
    "import datetime \n",
    "import os\n",
    "import platform\n",
    "\n",
    "\n",
    "class Notifier:\n",
    "    \"\"\" Simple OS notifier to copy-paste-use \n",
    "    Example:\n",
    "        notifier = Notifier()\n",
    "        notifier.msg(\"Hello\", title='Notifier')\n",
    "    \"\"\"\n",
    "    def __init__(self):\n",
    "        self.os = platform.system()\n",
    "        \n",
    "    def msg(self, message, title='Notifier'):\n",
    "        \"\"\"Send message to OS\"\"\"\n",
    "        message = message.replace('\\'', ' ').replace('\\\"', ' ')\n",
    "        if self.os == 'Linux':\n",
    "            os.system(f\"notify-send \\\"{title}\\\" '{message}'\")\n",
    "        elif self.os == 'Darwin':\n",
    "            os.system(f\"osascript -e \\'display notification \\\"{message}\\\" with title \\\"{title}\\\"\\'\")\n",
    "        else:\n",
    "            # TODO: win notification\n",
    "            pass\n",
    "\n",
    "\n",
    "class Clock:\n",
    "    \"\"\"Simple clock to copy-paste-use\n",
    "    Example:\n",
    "        >>> clock = Clock(\"Request\")\n",
    "        >>> data = requests.get('http://facebuk.com/users/all/secret/100TB/download')\n",
    "        >>> clock.tik(\"Loaded! \")\n",
    "        [  Request  ]Loaded!    123456.789 s\n",
    "        >>>\n",
    "    \"\"\"\n",
    "    def __init__(self, label, notify_os=False):\n",
    "        self.label = label\n",
    "        self.start = datetime.datetime.now()\n",
    "        self.notifier = Notifier() if notify_os else None\n",
    "    \n",
    "    def reset(self):\n",
    "        \"\"\"Reset time\"\"\"\n",
    "        self.start = datetime.datetime.now()\n",
    "        \n",
    "    def tik(self, output='', show_time=False):\n",
    "        \"\"\"Reset time and output\"\"\"\n",
    "        now = datetime.datetime.now()\n",
    "        self.start, delta = now, now - self.start\n",
    "        message = f\"[{self.label:^10}] {output:15}\" \n",
    "        if show_time:\n",
    "            message += f\"{delta.total_seconds():12.2f} s\"\n",
    "            \n",
    "        print(message)\n",
    "        if self.notifier:\n",
    "            self.notifier.msg(message, title=\"Python Clock\")\n",
    "        \n",
    "\n",
    "if __name__ == \"__main__\":\n",
    "    clock = Clock('Test')\n",
    "    for i in range(10000000):\n",
    "        pass\n",
    "    clock.tik('test run', show_time=True)"
   ]
  },
  {
   "cell_type": "code",
   "execution_count": 7,
   "metadata": {
    "jupyter": {
     "source_hidden": true
    }
   },
   "outputs": [],
   "source": [
    "from sklearn.model_selection import train_test_split\n",
    "from imblearn.over_sampling import RandomOverSampler\n",
    "\n",
    "\n",
    "class Preprocessor:\n",
    "    \"\"\"Class created to be able to pickle\"\"\"\n",
    "    def __init__(self, frac=0.03, word_base='lem', top_words_count=1000, test_total_ratio=0.2):\n",
    "        self.frac=frac\n",
    "        self.word_base=word_base\n",
    "        self.top_words_count=top_words_count\n",
    "        self.test_total_ratio=test_total_ratio\n",
    "        \n",
    "    def run(self):\n",
    "        \"\"\"Run preprocessing\"\"\"\n",
    "        \n",
    "        clock = Clock(f'Preproc {self.frac:4}', notify_os=True)\n",
    "        \n",
    "        # load & clean data\n",
    "        df = load_init(frac=self.frac)\n",
    "        df['category'], labels = pd.factorize(df['category'])\n",
    "        self.label_map = {v: i for i, v in list(enumerate(labels))}\n",
    "        df['message'] = df['message'].apply(clear_message)\n",
    "\n",
    "\n",
    "        clock.tik(f'Basing... ({self.word_base})')\n",
    "        self.stop_set = get_sw([\n",
    "            'english',\n",
    "            'russian',\n",
    "            'chinees'\n",
    "        ])\n",
    "        self.baser = get_baser('lem')\n",
    "    \n",
    "    \n",
    "        # base message words\n",
    "        df['based_words'] = df['message'].apply(lambda x: basing(x, self.baser, self.stop_set))\n",
    "        self.top_words = get_top_words(df['based_words'], top_N=self.top_words_count)\n",
    "        \n",
    "        \n",
    "        # filter words\n",
    "        filter_words = lambda words: [word for word in words if word in self.top_words]\n",
    "        df['filtered_words'] = df['based_words'].apply(filter_words)\n",
    "\n",
    "        clock.tik('Basing done', show_time=True)\n",
    "        \n",
    "        \n",
    "        # vectorize\n",
    "        vec_result = get_vectorized(df['filtered_words'].apply(lambda x: ' '.join(x)), \n",
    "                                    df['category'], \n",
    "                                    top_words_count=self.top_words_count)\n",
    "        train, train_columns, target, self.vectorizer = vec_result\n",
    "\n",
    "        \n",
    "        # oversample\n",
    "        clock.tik('Oversampling...')\n",
    "        ros = RandomOverSampler()\n",
    "        X_ros, y_ros = ros.fit_sample(train[train_columns], train[target])\n",
    "        clock.tik('Oversampling done!', show_time=True)\n",
    "        X_ros[target] = y_ros\n",
    "        train = X_ros[:]\n",
    "\n",
    "        \n",
    "        # split on train and test\n",
    "        x_train, x_test, y_train, y_test = train_test_split( train[train_columns]\n",
    "                                                           , train[target] \n",
    "                                                           , test_size=self.test_total_ratio\n",
    "                                                           , random_state=RANDOM_STATE \n",
    "                                                           , stratify = train[target] \n",
    "                                                           )\n",
    "        clock.tik(f\" Train: {train.shape}\")\n",
    "        return x_train, x_test, y_train, y_test\n",
    "    \n",
    "\n",
    "    def message_prepare(self, message):\n",
    "        \"\"\"Vectorize message\"\"\"\n",
    "        based = basing(message, self.baser, self.stop_set)\n",
    "        \n",
    "        filter_words = lambda words: [word for word in words if word in self.top_words]\n",
    "        filtered = filter_words(based)\n",
    "        \n",
    "        vectorized =  self.vectorizer.transform([' '.join(filtered)]).toarray()\n",
    "        return vectorized"
   ]
  },
  {
   "cell_type": "code",
   "execution_count": 5,
   "metadata": {},
   "outputs": [],
   "source": [
    "import matplotlib.pyplot as plt\n",
    "import matplotlib\n",
    "from sklearn.metrics import classification_report\n",
    "\n",
    "from mlxtend.evaluate import  confusion_matrix\n",
    "from mlxtend.plotting import plot_confusion_matrix\n",
    "\n",
    "def pretty_output(predicted_labels, true_labels):\n",
    "    \"\"\"Notebook beautiful output :3 \"\"\"\n",
    "    cm = confusion_matrix(y_target=true_labels, \n",
    "                          y_predicted=predicted_labels)\n",
    "\n",
    "    fig, ax = plot_confusion_matrix(conf_mat=cm)\n",
    "\n",
    "    fig = matplotlib.pyplot.gcf()\n",
    "    fig.set_size_inches(18.5, 10.5)\n",
    "    print(classification_report(true_labels, predicted_labels))\n",
    "    plt.show()"
   ]
  },
  {
   "cell_type": "code",
   "execution_count": 6,
   "metadata": {},
   "outputs": [
    {
     "name": "stdout",
     "output_type": "stream",
     "text": [
      "[Preproc  0.8] Basing... (stem)\n",
      "[Preproc  0.8] Basing done          367.12 s\n",
      "[Preproc  0.8] Oversampling...\n",
      "[Preproc  0.8] Oversampling done!        7.45 s\n",
      "[Preproc  0.8]  Train: (67485, 1501)\n"
     ]
    }
   ],
   "source": [
    "## Here preprocessing occurs \n",
    "params = {\n",
    "    \"word_base\": 'stem',\n",
    "    \"top_words_count\": 1500,\n",
    "    \"test_total_ratio\": 0.3,\n",
    "}\n",
    "\n",
    "## --- To easy debug switch ----\n",
    "# FLAG_DEBUG_FULL = True\n",
    "FLAG_DEBUG_FULL = False\n",
    "## -----------------------------\n",
    "\n",
    "frac = 1 if FLAG_DEBUG_FULL else 0.8\n",
    "\n",
    "preproc = Preprocessor(frac=frac, **params)\n",
    "preproc_result = preproc.run()\n",
    "\n",
    "\n",
    "x_train, x_test, y_train, y_test = preproc_result"
   ]
  },
  {
   "cell_type": "code",
   "execution_count": 32,
   "metadata": {},
   "outputs": [
    {
     "name": "stdout",
     "output_type": "stream",
     "text": [
      "[   RFC    ]  Finnished:            1.82 s\n"
     ]
    },
    {
     "data": {
      "text/plain": [
       "[0.49601907168574655, 0.3659762712822673, 0.13800465703198625]"
      ]
     },
     "execution_count": 32,
     "metadata": {},
     "output_type": "execute_result"
    }
   ],
   "source": [
    "from sklearn.neural_network import MLPClassifier\n",
    "from sklearn.ensemble import RandomForestClassifier\n",
    "\n",
    "## --- To easy debug switch ----\n",
    "LOAD_DUMPS = False\n",
    "# LOAD_DUMPS = True\n",
    "## -----------------------------\n",
    "\n",
    "if LOAD_DUMPS:\n",
    "    model = pickle.load(open(\"final_model.pickle\", \"rb\"))\n",
    "    preproc = pickle.load(open(\"final_preproc.pickle\", \"rb\"))\n",
    "else:\n",
    "    # best model I can made now\n",
    "    clf = RandomForestClassifier(n_estimators=8,\n",
    "                                 max_depth=600,\n",
    "                                 max_features=7,\n",
    "                                 n_jobs=-1,\n",
    "#                                  class_weight=\"balanced\",\n",
    "                                 random_state=RANDOM_STATE)\n",
    "\n",
    "    clock = Clock('RFC')\n",
    "\n",
    "    X_TRAIN = x_train\n",
    "    Y_TRAIN = y_train\n",
    "\n",
    "    X_TEST = x_test\n",
    "    Y_TEST = y_test\n",
    "\n",
    "    model = clf.fit(X_TRAIN, Y_TRAIN)\n",
    "    clock.tik(f' Finnished: ', show_time=True)\n",
    "    \n",
    "    \n",
    "def class_predict(message, preproc, model):\n",
    "    \"\"\"Make prediction of message with ordering\n",
    "    message: string\n",
    "    preproc: Preprocessor\n",
    "    model: ML model with predict_proba func\n",
    "    \"\"\"\n",
    "    _order=['afs', 'other', 'ps']\n",
    "    vec = preproc.message_prepare(message)\n",
    "    pred = model.predict_proba(vec)[0]    \n",
    "    \n",
    "    results = dict(enumerate(pred))  \n",
    "    return [results[preproc.label_map[_class]] for _class in _order]\n",
    "\n",
    "class_predict(\"Hello, payment... Thanks\", preproc, model)"
   ]
  },
  {
   "cell_type": "code",
   "execution_count": 33,
   "metadata": {},
   "outputs": [],
   "source": [
    "## --- To easy debug switch ----\n",
    "pickle.dump(model, open(\"final_model.pickle\", \"wb\"))\n",
    "pickle.dump(preproc, open(\"final_preproc.pickle\", \"wb\"))\n",
    "## -----------------------------"
   ]
  },
  {
   "cell_type": "code",
   "execution_count": 8,
   "metadata": {},
   "outputs": [
    {
     "name": "stdout",
     "output_type": "stream",
     "text": [
      "              precision    recall  f1-score   support\n",
      "\n",
      "         0.0       0.91      0.78      0.84      6748\n",
      "         1.0       0.85      0.96      0.90      6749\n",
      "         2.0       0.88      0.89      0.88      6749\n",
      "\n",
      "    accuracy                           0.88     20246\n",
      "   macro avg       0.88      0.88      0.87     20246\n",
      "weighted avg       0.88      0.88      0.87     20246\n",
      "\n"
     ]
    },
    {
     "data": {
      "image/png": "[encoded data removed]",
      "text/plain": [
       "<Figure size 1332x756 with 1 Axes>"
      ]
     },
     "metadata": {
      "needs_background": "light"
     },
     "output_type": "display_data"
    }
   ],
   "source": [
    "pretty_output(model.predict(X_TEST), Y_TEST)"
   ]
  },
  {
   "cell_type": "code",
   "execution_count": 8,
   "metadata": {},
   "outputs": [
    {
     "ename": "Exception",
     "evalue": "STOP",
     "output_type": "error",
     "traceback": [
      "\u001b[0;31m---------------------------------------------------------------------------\u001b[0m",
      "\u001b[0;31mException\u001b[0m                                 Traceback (most recent call last)",
      "\u001b[0;32m<ipython-input-8-304d0e987fc5>\u001b[0m in \u001b[0;36m<module>\u001b[0;34m\u001b[0m\n\u001b[0;32m----> 1\u001b[0;31m \u001b[0;32mraise\u001b[0m \u001b[0mException\u001b[0m\u001b[0;34m(\u001b[0m\u001b[0;34m\"STOP\"\u001b[0m\u001b[0;34m)\u001b[0m\u001b[0;34m\u001b[0m\u001b[0;34m\u001b[0m\u001b[0m\n\u001b[0m\u001b[1;32m      2\u001b[0m \u001b[0;31m# Further cells are out of main thread, so stop execution with Exeption\u001b[0m\u001b[0;34m\u001b[0m\u001b[0;34m\u001b[0m\u001b[0;34m\u001b[0m\u001b[0m\n",
      "\u001b[0;31mException\u001b[0m: STOP"
     ]
    }
   ],
   "source": [
    "raise Exception(\"STOP\")\n",
    "# Further cells are out of main thread, so stop execution with Exeption"
   ]
  },
  {
   "cell_type": "code",
   "execution_count": null,
   "metadata": {},
   "outputs": [],
   "source": [
    "## Addintion - Model selection\n",
    "\n",
    "from sklearn.neural_network import MLPClassifier\n",
    "from sklearn.ensemble import RandomForestClassifier\n",
    "from sklearn.decomposition import PCA\n",
    "\n",
    "\n",
    "history = []\n",
    "\n",
    "models = {\n",
    "    \"mlp\": MLPClassifier(hidden_layer_sizes = (5, 7), \n",
    "                         solver='lbfgs',\n",
    "                         learning_rate_init=0.0001,\n",
    "                         max_iter = 10000, \n",
    "                         random_state = RANDOM_STATE),\n",
    "    \"rfc\": RandomForestClassifier(n_estimators=100,\n",
    "                                  max_depth=100,\n",
    "                                  n_jobs=-1,\n",
    "                                 random_state=RANDOM_STATE)\n",
    "}\n",
    "\n",
    "for i in range(1, 45):\n",
    "    clf = RandomForestClassifier(n_estimators=399,\n",
    "                                 max_depth=70,\n",
    "                                 max_features=27,\n",
    "                                 n_jobs=-1,\n",
    "                                 class_weight=\"balanced\",\n",
    "                                 random_state=RANDOM_STATE)\n",
    "    clock = Clock('MLP')\n",
    "    \n",
    "    model = clf.fit(x_train_full, y_train_full)\n",
    "    history.append(model.score(x_test, y_test))\n",
    "    clock.tik(f'Run: {i:2}, Accuracy: {history[-1]:.3}', show_time=True)\n",
    "\n",
    "plt.plot(history)"
   ]
  },
  {
   "cell_type": "code",
   "execution_count": null,
   "metadata": {},
   "outputs": [],
   "source": [
    "pretty_output(model.predict(X_TEST), Y_TEST)"
   ]
  },
  {
   "cell_type": "code",
   "execution_count": null,
   "metadata": {},
   "outputs": [],
   "source": [
    "import pickle\n",
    "\n",
    "#кешируем\n",
    "# pickle.dump(x_train_full, open(\"m_x_train_1500_full.pickle\", \"wb\"))\n",
    "# pickle.dump(y_train_full, open(\"m_y_train_1500_full.pickle\", \"wb\"))\n",
    "# pickle.dump(x_test_full, open(\"m_x_test_1500_full.pickle\", \"wb\"))\n",
    "# pickle.dump(y_test_full, open(\"m_y_test_1500_full.pickle\", \"wb\"))\n",
    "\n",
    "x_train_full = pickle.load(open(\"m_x_train_1500_lem_full.pickle\", \"rb\"))\n",
    "y_train_full = pickle.load(open(\"m_y_train_1500_lem_full.pickle\", \"rb\"))\n",
    "x_test_full = pickle.load(open(\"m_x_test_1500_lem_full.pickle\", \"rb\"))\n",
    "y_test_full = pickle.load(open(\"m_y_test_1500_lem_full.pickle\", \"rb\"))\n"
   ]
  },
  {
   "cell_type": "code",
   "execution_count": 9,
   "metadata": {},
   "outputs": [],
   "source": [
    "import joblib"
   ]
  },
  {
   "cell_type": "code",
   "execution_count": 10,
   "metadata": {},
   "outputs": [
    {
     "data": {
      "text/plain": [
       "['_test.jlib.pack']"
      ]
     },
     "execution_count": 10,
     "metadata": {},
     "output_type": "execute_result"
    }
   ],
   "source": [
    "joblib.dump(model, '_test.jlib.pack')"
   ]
  },
  {
   "cell_type": "code",
   "execution_count": 27,
   "metadata": {},
   "outputs": [
    {
     "name": "stdout",
     "output_type": "stream",
     "text": [
      "[   RFC    ]  Finnished:            1.80 s\n"
     ]
    },
    {
     "data": {
      "text/plain": [
       "[0.49601907168574655, 0.3659762712822673, 0.13800465703198625]"
      ]
     },
     "execution_count": 27,
     "metadata": {},
     "output_type": "execute_result"
    }
   ],
   "source": [
    "from sklearn.neural_network import MLPClassifier\n",
    "from sklearn.ensemble import RandomForestClassifier\n",
    "\n",
    "## --- To easy debug switch ----\n",
    "LOAD_DUMPS = False\n",
    "# LOAD_DUMPS = True\n",
    "## -----------------------------\n",
    "\n",
    "if LOAD_DUMPS:\n",
    "    model = pickle.load(open(\"final_model.pickle\", \"rb\"))\n",
    "    preproc = pickle.load(open(\"final_preproc.pickle\", \"rb\"))\n",
    "else:\n",
    "    # best model I can made now\n",
    "    clf = RandomForestClassifier(n_estimators=8,\n",
    "                                 max_depth=600,\n",
    "                                 max_features=7,\n",
    "                                 n_jobs=-1,\n",
    "#                                  class_weight=\"balanced\",\n",
    "                                 random_state=RANDOM_STATE)\n",
    "\n",
    "    clock = Clock('RFC')\n",
    "\n",
    "    X_TRAIN = x_train\n",
    "    Y_TRAIN = y_train\n",
    "\n",
    "    X_TEST = x_test\n",
    "    Y_TEST = y_test\n",
    "\n",
    "    model = clf.fit(X_TRAIN, Y_TRAIN)\n",
    "    clock.tik(f' Finnished: ', show_time=True)\n",
    "    \n",
    "    \n",
    "def class_predict(message, preproc, model):\n",
    "    \"\"\"Make prediction of message with ordering\n",
    "    message: string\n",
    "    preproc: Preprocessor\n",
    "    model: ML model with predict_proba func\n",
    "    \"\"\"\n",
    "    _order=['afs', 'other', 'ps']\n",
    "    vec = preproc.message_prepare(message)\n",
    "    pred = model.predict_proba(vec)[0]    \n",
    "    \n",
    "    results = dict(enumerate(pred))  \n",
    "    return [results[preproc.label_map[_class]] for _class in _order]\n",
    "\n",
    "class_predict(\"Hello, payment... Thanks\", preproc, model)"
   ]
  },
  {
   "cell_type": "code",
   "execution_count": 28,
   "metadata": {},
   "outputs": [
    {
     "name": "stdout",
     "output_type": "stream",
     "text": [
      "              precision    recall  f1-score   support\n",
      "\n",
      "         0.0       0.89      0.74      0.81      6748\n",
      "         1.0       0.82      0.96      0.89      6749\n",
      "         2.0       0.87      0.88      0.87      6749\n",
      "\n",
      "    accuracy                           0.86     20246\n",
      "   macro avg       0.86      0.86      0.86     20246\n",
      "weighted avg       0.86      0.86      0.86     20246\n",
      "\n"
     ]
    },
    {
     "data": {
      "image/png": "[encoded data removed]",
      "text/plain": [
       "<Figure size 1332x756 with 1 Axes>"
      ]
     },
     "metadata": {
      "needs_background": "light"
     },
     "output_type": "display_data"
    }
   ],
   "source": [
    "pretty_output(model.predict(X_TEST), Y_TEST)"
   ]
  },
  {
   "cell_type": "code",
   "execution_count": 31,
   "metadata": {},
   "outputs": [
    {
     "data": {
      "text/plain": [
       "['_test.jlib.pack']"
      ]
     },
     "execution_count": 31,
     "metadata": {},
     "output_type": "execute_result"
    }
   ],
   "source": [
    "joblib.dump(model, '_test.jlib.pack')"
   ]
  },
  {
   "cell_type": "code",
   "execution_count": 30,
   "metadata": {},
   "outputs": [],
   "source": [
    "import joblib"
   ]
  },
  {
   "cell_type": "code",
   "execution_count": null,
   "metadata": {},
   "outputs": [],
   "source": []
  }
 ],
 "metadata": {
  "kernelspec": {
   "display_name": "Python 3",
   "language": "python",
   "name": "python3"
  },
  "language_info": {
   "codemirror_mode": {
    "name": "ipython",
    "version": 3
   },
   "file_extension": ".py",
   "mimetype": "text/x-python",
   "name": "python",
   "nbconvert_exporter": "python",
   "pygments_lexer": "ipython3",
   "version": "3.8.5"
  },
  "toc": {
   "base_numbering": 1,
   "nav_menu": {},
   "number_sections": true,
   "sideBar": true,
   "skip_h1_title": false,
   "title_cell": "Table of Contents",
   "title_sidebar": "Contents",
   "toc_cell": false,
   "toc_position": {},
   "toc_section_display": true,
   "toc_window_display": false
  }
 },
 "nbformat": 4,
 "nbformat_minor": 4
}
